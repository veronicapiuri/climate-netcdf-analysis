{
 "cells": [
  {
   "cell_type": "code",
   "execution_count": null,
   "id": "ed2f8ca7-dc89-4d08-ab68-4a500cdb8a8a",
   "metadata": {},
   "outputs": [],
   "source": [
    "import xarray as xr\n",
    "import matplotlib.pyplot as plt\n",
    "\n",
    "# Carica un file NetCDF\n",
    "ds = xr.open_dataset(\"path/al/tuo/file.nc\")\n",
    "\n",
    "# Mostra le variabili disponibili\n",
    "print(ds)"
   ]
  }
 ],
 "metadata": {
  "kernelspec": {
   "display_name": "Python 3 (ipykernel)",
   "language": "python",
   "name": "python3"
  },
  "language_info": {
   "codemirror_mode": {
    "name": "ipython",
    "version": 3
   },
   "file_extension": ".py",
   "mimetype": "text/x-python",
   "name": "python",
   "nbconvert_exporter": "python",
   "pygments_lexer": "ipython3",
   "version": "3.10.16"
  }
 },
 "nbformat": 4,
 "nbformat_minor": 5
}
